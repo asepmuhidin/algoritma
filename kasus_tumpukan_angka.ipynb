{
  "nbformat": 4,
  "nbformat_minor": 0,
  "metadata": {
    "colab": {
      "name": "kasus_tumpukan_angka.ipynb",
      "provenance": [],
      "authorship_tag": "ABX9TyPHBRd/5yUibDGskjZorUi/",
      "include_colab_link": true
    },
    "kernelspec": {
      "name": "python3",
      "display_name": "Python 3"
    }
  },
  "cells": [
    {
      "cell_type": "markdown",
      "metadata": {
        "id": "view-in-github",
        "colab_type": "text"
      },
      "source": [
        "<a href=\"https://colab.research.google.com/github/asepmuhidin/algoritma/blob/main/kasus_tumpukan_angka.ipynb\" target=\"_parent\"><img src=\"https://colab.research.google.com/assets/colab-badge.svg\" alt=\"Open In Colab\"/></a>"
      ]
    },
    {
      "cell_type": "code",
      "metadata": {
        "colab": {
          "base_uri": "https://localhost:8080/"
        },
        "id": "abzjIjDnG9QK",
        "outputId": "37b0bb16-4d4f-43f2-ba41-979d0ff2257a"
      },
      "source": [
        "uang=int(input('masukan jumlah nilai salary : '))\n",
        "uang_pecahan=[100000, 50000, 20000, 10000, 5000, 2000, 1000, 500, 200, 100]\n",
        "sisa=uang\n",
        "print('jumlah salary {}, pecahan yang dibutuhkan yaitu : '.format(uang))"
      ],
      "execution_count": 9,
      "outputs": [
        {
          "output_type": "stream",
          "text": [
            "masukan jumlah nilai salary : 700\n",
            "jumlah salary 700, pecahan yang dibutuhkan yaitu : \n"
          ],
          "name": "stdout"
        }
      ]
    },
    {
      "cell_type": "code",
      "metadata": {
        "id": "m0hdOgW6Wglj"
      },
      "source": [
        ""
      ],
      "execution_count": null,
      "outputs": []
    },
    {
      "cell_type": "markdown",
      "metadata": {
        "id": "G743n2cFWhwF"
      },
      "source": [
        ""
      ]
    },
    {
      "cell_type": "code",
      "metadata": {
        "colab": {
          "base_uri": "https://localhost:8080/"
        },
        "id": "KmfSTrFoHKoQ",
        "outputId": "d97109f2-c2b0-47fa-be99-818290fd4020"
      },
      "source": [
        "for pecahan in uang_pecahan:\n",
        "  if sisa < pecahan:\n",
        "    continue\n",
        "  \n",
        "  banyak_pecahan = int(sisa/pecahan)\n",
        "  #sisa = sisa - (pecahan * banyak_pecahan)\n",
        "  sisa %= pecahan\n",
        "  print('pecahan Rp {} : {} lembar'.format(pecahan, banyak_pecahan))"
      ],
      "execution_count": 10,
      "outputs": [
        {
          "output_type": "stream",
          "text": [
            "pecahan Rp 500 : 1 lembar\n",
            "pecahan Rp 200 : 1 lembar\n"
          ],
          "name": "stdout"
        }
      ]
    },
    {
      "cell_type": "code",
      "metadata": {
        "colab": {
          "base_uri": "https://localhost:8080/"
        },
        "id": "fLUYXSQlKWXR",
        "outputId": "4659623d-7cd5-4bf2-c2e4-509cf83cb94b"
      },
      "source": [
        "tumpukan=int(input(\"Masukan jumlah tumpukan ?\"))\n",
        "for i in range(1,tumpukan+1):\n",
        "  for j in range(tumpukan,i,-1):\n",
        "    print(\" \",end='')\n",
        "  for j in range(1,i*2):\n",
        "    print(i, end='')\n",
        "  print()  "
      ],
      "execution_count": 44,
      "outputs": [
        {
          "output_type": "stream",
          "text": [
            "Masukan jumlah tumpukan ?9\n",
            "        1\n",
            "       222\n",
            "      33333\n",
            "     4444444\n",
            "    555555555\n",
            "   66666666666\n",
            "  7777777777777\n",
            " 888888888888888\n",
            "99999999999999999\n"
          ],
          "name": "stdout"
        }
      ]
    },
    {
      "cell_type": "code",
      "metadata": {
        "colab": {
          "base_uri": "https://localhost:8080/"
        },
        "id": "eZaIf7mvSN4f",
        "outputId": "516ab4f5-9f2e-4612-8540-8579505c2937"
      },
      "source": [
        "for i in range(1,6):\n",
        "  for j in range(1,10):\n",
        "    print(4*'', end='')\n",
        "    print(i, end='')\n",
        "  print()  "
      ],
      "execution_count": 25,
      "outputs": [
        {
          "output_type": "stream",
          "text": [
            "111111111\n",
            "222222222\n",
            "333333333\n",
            "444444444\n",
            "555555555\n"
          ],
          "name": "stdout"
        }
      ]
    },
    {
      "cell_type": "code",
      "metadata": {
        "colab": {
          "base_uri": "https://localhost:8080/"
        },
        "id": "_mQUcVo8TdAm",
        "outputId": "16ecd475-d9f4-4d4d-cc2e-a2649495dec5"
      },
      "source": [
        "for j in range(1,10):\n",
        "  if (j==10/2):\n",
        "    print(j, end='')\n",
        "  else:\n",
        "    print('*', end='')   "
      ],
      "execution_count": 27,
      "outputs": [
        {
          "output_type": "stream",
          "text": [
            "****5****"
          ],
          "name": "stdout"
        }
      ]
    },
    {
      "cell_type": "code",
      "metadata": {
        "colab": {
          "base_uri": "https://localhost:8080/"
        },
        "id": "7nAO3mnXUBc3",
        "outputId": "a19821ee-be3b-4c3a-ac66-bc21e92d0e03"
      },
      "source": [
        "for i in range(1,6):\n",
        "  for j in range(5,i,-1):\n",
        "    print(\" \",end='')\n",
        "  for k in range(1,2*i):\n",
        "    print(i,end='')\n",
        "  for j in range(5,i,-1):\n",
        "    print(\" \",end='')  \n",
        "  print()"
      ],
      "execution_count": 34,
      "outputs": [
        {
          "output_type": "stream",
          "text": [
            "    1    \n",
            "   222   \n",
            "  33333  \n",
            " 4444444 \n",
            "555555555\n"
          ],
          "name": "stdout"
        }
      ]
    },
    {
      "cell_type": "code",
      "metadata": {
        "colab": {
          "base_uri": "https://localhost:8080/"
        },
        "id": "-nRFbpPzV1zM",
        "outputId": "38399428-2ad4-48e4-bc5b-a4bc93093003"
      },
      "source": [
        "jum=0\n",
        "for i in range(1,6):\n",
        "  jum +=i\n",
        "\n",
        "print(jum)"
      ],
      "execution_count": 38,
      "outputs": [
        {
          "output_type": "stream",
          "text": [
            "15\n"
          ],
          "name": "stdout"
        }
      ]
    }
  ]
}