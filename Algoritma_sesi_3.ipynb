{
  "nbformat": 4,
  "nbformat_minor": 0,
  "metadata": {
    "colab": {
      "name": "Algoritma_sesi_3.ipynb",
      "provenance": [],
      "authorship_tag": "ABX9TyOaCuAKHSSqgNyJB+Xlr6I7",
      "include_colab_link": true
    },
    "kernelspec": {
      "name": "python3",
      "display_name": "Python 3"
    }
  },
  "cells": [
    {
      "cell_type": "markdown",
      "metadata": {
        "id": "view-in-github",
        "colab_type": "text"
      },
      "source": [
        "<a href=\"https://colab.research.google.com/github/asepmuhidin/algoritma/blob/main/Algoritma_sesi_3.ipynb\" target=\"_parent\"><img src=\"https://colab.research.google.com/assets/colab-badge.svg\" alt=\"Open In Colab\"/></a>"
      ]
    },
    {
      "cell_type": "code",
      "metadata": {
        "id": "hWa0X-terEsd",
        "outputId": "26a66cad-dd0d-438f-b232-c9dcb39d6449",
        "colab": {
          "base_uri": "https://localhost:8080/",
          "height": 34
        }
      },
      "source": [
        "## sisa bagi (modulo simbolnya %)\n",
        "bil=8\n",
        "\n",
        "if bil%2==0:\n",
        "  msg=\"Genap\"\n",
        "else :\n",
        "  msg=\"Ganjil\"\n",
        "\n",
        "#Bilangan 41 adalah bilangan ganjil\n",
        "print(\"Bilangan \", bil , \" adalah bilangan \" , msg)\n"
      ],
      "execution_count": 12,
      "outputs": [
        {
          "output_type": "stream",
          "text": [
            "Bilangan  8  adalah bilangan  Genap\n"
          ],
          "name": "stdout"
        }
      ]
    },
    {
      "cell_type": "code",
      "metadata": {
        "id": "_q6SKTBdzUJ4",
        "outputId": "7bf31cf3-bef5-4431-b67c-16344e642fbf",
        "colab": {
          "base_uri": "https://localhost:8080/",
          "height": 70
        }
      },
      "source": [
        "# karakter --> 2 + 2 = 22\n",
        "# bilangan --> 2 + 2 = 4\n",
        "\n",
        "bil1=int(input(\"input sembarang bilangan ke-1 : ? \"))\n",
        "bil2=int(input(\"input sembarang bilangan ke-2 : ? \"))\n",
        "\n",
        "if bil1 > bil2 :\n",
        "  status=\"Besar\"\n",
        "else :\n",
        "  status=\"Kecil\"\n",
        "\n",
        "print(\"Bilangan \", bil1 ,\" lebih \" , status , \" dari \", bil2)\n"
      ],
      "execution_count": 16,
      "outputs": [
        {
          "output_type": "stream",
          "text": [
            "input sembarang bilangan ke-1 : ? 325\n",
            "input sembarang bilangan ke-2 : ? 3\n",
            "Bilangan  325  lebih  Besar  dari  3\n"
          ],
          "name": "stdout"
        }
      ]
    }
  ]
}