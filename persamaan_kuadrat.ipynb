{
  "nbformat": 4,
  "nbformat_minor": 0,
  "metadata": {
    "colab": {
      "name": "persamaan_kuadrat.ipynb",
      "provenance": [],
      "authorship_tag": "ABX9TyPQO6VVW7/q27bQHCPMKfbv",
      "include_colab_link": true
    },
    "kernelspec": {
      "name": "python3",
      "display_name": "Python 3"
    }
  },
  "cells": [
    {
      "cell_type": "markdown",
      "metadata": {
        "id": "view-in-github",
        "colab_type": "text"
      },
      "source": [
        "<a href=\"https://colab.research.google.com/github/asepmuhidin/algoritma/blob/main/persamaan_kuadrat.ipynb\" target=\"_parent\"><img src=\"https://colab.research.google.com/assets/colab-badge.svg\" alt=\"Open In Colab\"/></a>"
      ]
    },
    {
      "cell_type": "code",
      "metadata": {
        "id": "yOT2S8Xm6s6z"
      },
      "source": [
        "import math\n",
        "\n",
        "## input a,b,c\n",
        "a=int(input(\"Nilai a ? \"))\n",
        "b=int(input(\"Nilai b ? \"))\n",
        "c=int(input(\"Nilai c ? \"))\n",
        "\n",
        "##menghitung nilai determinan\n",
        "d=b**2 - (4*a*c)\n",
        "\n",
        "## menghitung nilai x1,x2 sesuai dengan kondisi nilai determinan\n",
        "if d==0 :\n",
        "  x1=x2=-b/(2*a)\n",
        "elif d > 0 :\n",
        "  x1=(-b + math.sqrt(d))/(2*a)\n",
        "  x2=(-b - math.sqrt(d))/(2*a)\n",
        "else :\n",
        "  d *=-1\n",
        "  x1=str((-b + math.sqrt(d))/(2*a)) +\"i\"\n",
        "  x2=str((-b - math.sqrt(d))/(2*a)) +\"i\" \n",
        "\n",
        "print(\"Nilai D={}\". format(d))\n",
        "print(\"Nilai X1= {:.2f}, X2={:.2f}\". format(x1,x2))"
      ],
      "execution_count": null,
      "outputs": []
    }
  ]
}